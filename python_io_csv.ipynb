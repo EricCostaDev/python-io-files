{
  "nbformat": 4,
  "nbformat_minor": 0,
  "metadata": {
    "colab": {
      "provenance": [],
      "authorship_tag": "ABX9TyNH2gS6b4V7z0tZNi2OmAbv",
      "include_colab_link": true
    },
    "kernelspec": {
      "name": "python3",
      "display_name": "Python 3"
    },
    "language_info": {
      "name": "python"
    }
  },
  "cells": [
    {
      "cell_type": "markdown",
      "metadata": {
        "id": "view-in-github",
        "colab_type": "text"
      },
      "source": [
        "<a href=\"https://colab.research.google.com/github/EricCostaDev/python-io-files/blob/main/python_io_csv.ipynb\" target=\"_parent\"><img src=\"https://colab.research.google.com/assets/colab-badge.svg\" alt=\"Open In Colab\"/></a>"
      ]
    },
    {
      "cell_type": "markdown",
      "source": [
        "# CSV Files"
      ],
      "metadata": {
        "id": "Q6cqGXPQoNER"
      }
    },
    {
      "cell_type": "markdown",
      "source": [
        "### Creating CSV files"
      ],
      "metadata": {
        "id": "LPJnJUbVkacD"
      }
    },
    {
      "cell_type": "code",
      "source": [
        "import csv\n",
        "\n",
        "# Data to be written in the csv file\n",
        "data = [\n",
        "    ['Name', 'Age', 'Country'],\n",
        "    ['John', '25', 'USA'],\n",
        "    ['Alice', '32', 'Canada'],\n",
        "    ['Bob', '40', 'Australia']\n",
        "]\n",
        "\n",
        "# Open a file for writing\n",
        "with open('example.csv', 'w', newline='') as file:\n",
        "    # Create a csv writer object\n",
        "    writer = csv.writer(file)\n",
        "    # Write the data to the csv file\n",
        "    for row in data:\n",
        "        writer.writerow(row)\n"
      ],
      "metadata": {
        "id": "o80MSheCkaz0"
      },
      "execution_count": 1,
      "outputs": []
    },
    {
      "cell_type": "markdown",
      "source": [
        "### Printing CSV files"
      ],
      "metadata": {
        "id": "HpMFs_bFjuUb"
      }
    },
    {
      "cell_type": "code",
      "execution_count": 2,
      "metadata": {
        "colab": {
          "base_uri": "https://localhost:8080/"
        },
        "id": "yfOUi9onbYC_",
        "outputId": "dc9aa9f6-c5b9-420d-cb4c-28fc4bd75c75"
      },
      "outputs": [
        {
          "output_type": "stream",
          "name": "stdout",
          "text": [
            "Name Age\n",
            "John 25\n",
            "Alice 32\n",
            "Bob 40\n"
          ]
        }
      ],
      "source": [
        "import csv\n",
        "\n",
        "# Open the CSV file\n",
        "with open('example.csv', 'r') as file:\n",
        "    # Create a reader object\n",
        "    reader = csv.reader(file)\n",
        "    # Loop through each row in the CSV file\n",
        "    for row in reader:\n",
        "        # Print the values in the first and second columns\n",
        "        print(row[0], row[1])\n"
      ]
    },
    {
      "cell_type": "markdown",
      "source": [
        "### Printing CSV files"
      ],
      "metadata": {
        "id": "I_9raYtMocvv"
      }
    },
    {
      "cell_type": "code",
      "source": [
        "import pandas as pd\n",
        "\n",
        "# Read the CSV file into a pandas DataFrame\n",
        "df = pd.read_csv('example.csv')\n",
        "\n",
        "# Print the first five rows of the DataFrame\n",
        "print(df.head())\n",
        "\n",
        "# Extract the values in the 'Name' column and print them\n",
        "names = df['Name'].values\n",
        "print(names)\n",
        "\n",
        "ages = df[df['Age'] > 30]['Age'].values\n",
        "print(ages)\n",
        "\n",
        "ages_2 = df[(df['Age'] > 18) & (df['Age'] < 39)]['Age'].values\n",
        "print(ages_2)\n"
      ],
      "metadata": {
        "colab": {
          "base_uri": "https://localhost:8080/"
        },
        "id": "ZS1kyOzJk5PR",
        "outputId": "5c98c722-52a1-4207-8d5c-598dfc8644c2"
      },
      "execution_count": 5,
      "outputs": [
        {
          "output_type": "stream",
          "name": "stdout",
          "text": [
            "    Name  Age    Country\n",
            "0   John   25        USA\n",
            "1  Alice   32     Canada\n",
            "2    Bob   40  Australia\n",
            "['John' 'Alice' 'Bob']\n",
            "[32 40]\n",
            "[25 32]\n"
          ]
        }
      ]
    },
    {
      "cell_type": "markdown",
      "source": [
        "### Transform CSV to dict"
      ],
      "metadata": {
        "id": "8QytO6Z4lttX"
      }
    },
    {
      "cell_type": "code",
      "source": [
        "import pandas as pd\n",
        "\n",
        "# Read the CSV file into a Pandas DataFrame\n",
        "df = pd.read_csv('example.csv')\n",
        "# Convert the DataFrame to a list of dictionaries\n",
        "data = df.to_dict('records')\n",
        "\n",
        "# Print the resulting list of dictionaries\n",
        "print(data)\n"
      ],
      "metadata": {
        "colab": {
          "base_uri": "https://localhost:8080/"
        },
        "id": "f4Sopa3lluM1",
        "outputId": "a2ef4e22-1fea-44b6-ad61-1346135a0946"
      },
      "execution_count": 6,
      "outputs": [
        {
          "output_type": "stream",
          "name": "stdout",
          "text": [
            "[{'Name': 'John', 'Age': 25, 'Country': 'USA'}, {'Name': 'Alice', 'Age': 32, 'Country': 'Canada'}, {'Name': 'Bob', 'Age': 40, 'Country': 'Australia'}]\n"
          ]
        }
      ]
    },
    {
      "cell_type": "markdown",
      "source": [
        "### Writing CSV from dict "
      ],
      "metadata": {
        "id": "JPYTOyy1l2Co"
      }
    },
    {
      "cell_type": "code",
      "source": [
        "import pandas as pd\n",
        "\n",
        "# Define the dictionary\n",
        "my_dict = {\"Name\": [\"Alice\", \"Bob\", \"Charlie\",\"Eric\"],\n",
        "           \"Age\": [25, 30, 35,25],\n",
        "           \"City\": [\"New York\", \"Los Angeles\", \"Chicago\",\"Curitiba\"]}\n",
        "\n",
        "# Convert the dictionary to a pandas DataFrame\n",
        "df = pd.DataFrame.from_dict(my_dict)\n",
        "\n",
        "# Save the DataFrame to a CSV file\n",
        "df.to_csv(\"my_file.csv\", index=False)\n",
        "\n",
        "\n",
        "df = pd.read_csv('my_file.csv')\n",
        "print(df.head())"
      ],
      "metadata": {
        "colab": {
          "base_uri": "https://localhost:8080/"
        },
        "id": "5YepBta4l-2L",
        "outputId": "2ce71e65-a7da-4039-b74a-eabb3c90c297"
      },
      "execution_count": 7,
      "outputs": [
        {
          "output_type": "stream",
          "name": "stdout",
          "text": [
            "      Name  Age         City\n",
            "0    Alice   25     New York\n",
            "1      Bob   30  Los Angeles\n",
            "2  Charlie   35      Chicago\n",
            "3     Eric   25     Curitiba\n"
          ]
        }
      ]
    },
    {
      "cell_type": "markdown",
      "source": [
        "### Adding new columns (mean and std)"
      ],
      "metadata": {
        "id": "4edaxv8EmtnH"
      }
    },
    {
      "cell_type": "code",
      "source": [
        "import pandas as pd\n",
        "\n",
        "# Read the CSV file\n",
        "df = pd.read_csv('example.csv')\n",
        "\n",
        "# Print the first 5 rows\n",
        "print(df.head())\n",
        "\n",
        "# Extract a column from the dataframe\n",
        "column = df['Age']\n",
        "\n",
        "# Calculate some statistics\n",
        "mean = column.mean()\n",
        "std_dev = column.std()\n",
        "\n",
        "print(mean)\n",
        "print(std_dev)\n",
        "\n",
        "df['mean'] = mean\n",
        "df['std_dev'] = std_dev\n",
        "\n",
        "# Save the new dataframe to a CSV file\n",
        "df.to_csv('example_2.csv', index=False)\n",
        "\n",
        "\n",
        "df = pd.read_csv('example_2.csv')\n",
        "print(df.head())"
      ],
      "metadata": {
        "colab": {
          "base_uri": "https://localhost:8080/"
        },
        "id": "xK6brPdbmtFi",
        "outputId": "9dcb4a10-3f11-48e7-bf4a-f9a32bb56edd"
      },
      "execution_count": 11,
      "outputs": [
        {
          "output_type": "stream",
          "name": "stdout",
          "text": [
            "    Name  Age    Country\n",
            "0   John   25        USA\n",
            "1  Alice   32     Canada\n",
            "2    Bob   40  Australia\n",
            "32.333333333333336\n",
            "7.505553499465135\n",
            "    Name  Age    Country       mean   std_dev\n",
            "0   John   25        USA  32.333333  7.505553\n",
            "1  Alice   32     Canada  32.333333  7.505553\n",
            "2    Bob   40  Australia  32.333333  7.505553\n"
          ]
        }
      ]
    },
    {
      "cell_type": "markdown",
      "source": [
        "### Cleaning CSV files"
      ],
      "metadata": {
        "id": "PBUVQhocpBUX"
      }
    },
    {
      "cell_type": "code",
      "source": [
        "import pandas as pd\n",
        "\n",
        "# Read the CSV file into a pandas DataFrame\n",
        "df = pd.read_csv('example.csv')\n",
        "\n",
        "# Drop any rows with missing values\n",
        "df.dropna(inplace=True)\n",
        "\n",
        "# Convert a column of strings to a column of datetime objects\n",
        "df['date'] = pd.to_datetime(df['date'])\n",
        "\n",
        "# Calculate a new column based on existing columns\n",
        "df['total_cost'] = df['quantity'] * df['unit_price']\n",
        "\n",
        "# Group the data by a column and calculate summary statistics\n",
        "grouped = df.groupby('product')['total_cost'].agg(['sum', 'mean', 'count'])\n",
        "\n",
        "# Sort the data by a column\n",
        "sorted_df = df.sort_values('date')\n",
        "\n",
        "# Write the cleaned and transformed data back to a new CSV file\n",
        "sorted_df.to_csv('cleaned_data.csv', index=False)\n"
      ],
      "metadata": {
        "id": "_57OvRMcpAtC"
      },
      "execution_count": null,
      "outputs": []
    },
    {
      "cell_type": "markdown",
      "source": [
        "### Transform a CSV file to JSON and read JSON"
      ],
      "metadata": {
        "id": "ceHFVICrpNQ6"
      }
    },
    {
      "cell_type": "code",
      "source": [
        "import pandas as pd\n",
        "import json\n",
        "\n",
        "# Read CSV file into a pandas DataFrame\n",
        "df = pd.read_csv('example.csv')\n",
        "\n",
        "# Convert DataFrame to JSON format\n",
        "json_data = df.to_json(orient='records')\n",
        "\n",
        "# Save JSON data to file\n",
        "with open('example.json', 'w') as f:\n",
        "    f.write(json_data)\n",
        "\n",
        "\n",
        "# Open the JSON file\n",
        "with open('example.json') as f:\n",
        "    # Load the JSON data\n",
        "    data = json.load(f)\n",
        "\n",
        "# Print the contents of the JSON file\n",
        "print(data)"
      ],
      "metadata": {
        "colab": {
          "base_uri": "https://localhost:8080/"
        },
        "id": "zoAq6cQtpN6I",
        "outputId": "21252a38-8b4d-4d56-8991-f018d27aeb1a"
      },
      "execution_count": 14,
      "outputs": [
        {
          "output_type": "stream",
          "name": "stdout",
          "text": [
            "[{'Name': 'John', 'Age': 25, 'Country': 'USA'}, {'Name': 'Alice', 'Age': 32, 'Country': 'Canada'}, {'Name': 'Bob', 'Age': 40, 'Country': 'Australia'}]\n"
          ]
        }
      ]
    }
  ]
}